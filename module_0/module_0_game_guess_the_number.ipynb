{
 "cells": [
  {
   "cell_type": "code",
   "execution_count": 2,
   "metadata": {},
   "outputs": [
    {
     "name": "stdout",
     "output_type": "stream",
     "text": [
      "Ваш алгоритм угадывает число в среднем за 6 попыток\n"
     ]
    },
    {
     "data": {
      "text/plain": [
       "6"
      ]
     },
     "execution_count": 2,
     "metadata": {},
     "output_type": "execute_result"
    }
   ],
   "source": [
    "import numpy as np\n",
    "\n",
    "def score_game(game_core):\n",
    "    '''Function to count the number of attempts to guess the number in a 1000 games'''\n",
    "    count_ls = []\n",
    "    np.random.seed(1)  # fix RANDOM SEED to make the experiment reproducible\n",
    "    random_array = np.random.randint(1,101, size=(1000))\n",
    "    \n",
    "    for number in random_array:\n",
    "        count_ls.append(game_core(number))\n",
    "    \n",
    "    score = int(np.mean(count_ls))\n",
    "    print(f\"Ваш алгоритм угадывает число в среднем за {score} попыток\")\n",
    "    \n",
    "    return(score)\n",
    "\n",
    "def game_core_v3(number):\n",
    "    '''Function to guess the number'''\n",
    "    count = 1\n",
    "    predict = np.random.randint(1,101) # set up a predict number\n",
    "    predict_list = [1,101] # list of previous and current predict number to compare and count the median\n",
    "    \n",
    "    while number != predict:\n",
    "        count += 1\n",
    "        \n",
    "        if number > predict:\n",
    "            predict_list[0] = predict\n",
    "            predict = int((predict_list[int(len(predict_list)/2)] + predict_list[int(len(predict_list)/2 - 1)]) / 2)\n",
    "            # count median\n",
    "            \n",
    "        elif number < predict:\n",
    "            predict_list[1] = predict\n",
    "            predict = int((predict_list[int(len(predict_list)/2)] + predict_list[int(len(predict_list)/2 - 1)]) / 2)\n",
    "            # count median\n",
    "            \n",
    "    return(count) # exit, if guess the number\n",
    "\n",
    "score_game(game_core_v3)"
   ]
  },
  {
   "cell_type": "code",
   "execution_count": null,
   "metadata": {},
   "outputs": [],
   "source": []
  }
 ],
 "metadata": {
  "kernelspec": {
   "display_name": "Python 3",
   "language": "python",
   "name": "python3"
  },
  "language_info": {
   "codemirror_mode": {
    "name": "ipython",
    "version": 3
   },
   "file_extension": ".py",
   "mimetype": "text/x-python",
   "name": "python",
   "nbconvert_exporter": "python",
   "pygments_lexer": "ipython3",
   "version": "3.8.5"
  }
 },
 "nbformat": 4,
 "nbformat_minor": 4
}
